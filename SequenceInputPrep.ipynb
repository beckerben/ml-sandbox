{
 "cells": [
  {
   "cell_type": "markdown",
   "metadata": {},
   "source": [
    "# Sequence Preparation\n",
    "This notebook is meant to prepare a data file for use in ML experiments.  The data file will be a CSV that is updated with a sequence group column and a label (target) column for a classification problem using machine learning models to predict the target.  The sequence group column will be used to group sequences that are related to each other.  The label column will be used to indicate the target value for each sequence.  The data file will be used to train and test machine learning models to predict the target value for new sequences."
   ]
  },
  {
   "cell_type": "code",
   "execution_count": 3,
   "metadata": {},
   "outputs": [],
   "source": [
    "# perform the imports\n",
    "import pandas as pd\n"
   ]
  },
  {
   "cell_type": "code",
   "execution_count": 15,
   "metadata": {},
   "outputs": [],
   "source": [
    "# Declare the global variables\n",
    "file_in = './data/sample.csv'\n",
    "file_out = './data_prod/sample.csv'\n",
    "rows_per_group = 5  # Adjust as needed\n",
    "columns_to_write = ['date', 'open', 'high', 'low', 'close', 'volume', 'sequence_group']\n",
    "\n"
   ]
  },
  {
   "cell_type": "code",
   "execution_count": 17,
   "metadata": {},
   "outputs": [
    {
     "name": "stdout",
     "output_type": "stream",
     "text": [
      "Output file saved to ./data_prod/sample.csv\n"
     ]
    }
   ],
   "source": [
    "# Load the data\n",
    "df = pd.read_csv(file_in)\n",
    "\n",
    "# Convert 'date' column to datetime format for easier manipulation\n",
    "df['date'] = pd.to_datetime(df['date'], format='%m/%d/%Y %H:%M')\n",
    "\n",
    "# Initialize the sequence_group column\n",
    "df['sequence_group'] = None\n",
    "\n",
    "# Set the number of rows per group\n",
    "\n",
    "# Group by day and apply the logic for setting sequence_group values\n",
    "group_number = 1\n",
    "for _, group in df.groupby(df['date'].dt.date):\n",
    "    num_full_groups = len(group) // rows_per_group\n",
    "    if num_full_groups > 0:\n",
    "        for i in range(num_full_groups):\n",
    "            df.loc[group.index[i*rows_per_group:(i+1)*rows_per_group], 'sequence_group'] = group_number\n",
    "            group_number += 1\n",
    "\n",
    "# Remove rows where sequence_group is None\n",
    "df_final = df.dropna(subset=['sequence_group'])\n",
    "\n",
    "# Save the modified dataframe with only the specified columns to a new CSV file\n",
    "df_final.to_csv(file_out, index=False, columns=columns_to_write)\n",
    "print(f\"Output file saved to {file_out}\")\n"
   ]
  }
 ],
 "metadata": {
  "kernelspec": {
   "display_name": "py311",
   "language": "python",
   "name": "python3"
  },
  "language_info": {
   "codemirror_mode": {
    "name": "ipython",
    "version": 3
   },
   "file_extension": ".py",
   "mimetype": "text/x-python",
   "name": "python",
   "nbconvert_exporter": "python",
   "pygments_lexer": "ipython3",
   "version": "3.11.7"
  },
  "orig_nbformat": 4
 },
 "nbformat": 4,
 "nbformat_minor": 2
}
